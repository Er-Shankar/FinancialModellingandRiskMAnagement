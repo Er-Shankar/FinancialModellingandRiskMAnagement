{
  "cells": [
    {
      "metadata": {
        "trusted": true
      },
      "cell_type": "code",
      "source": "import numpy as np\nimport matplotlib.pyplot as plt\nfrom math import exp, sqrt",
      "execution_count": 7,
      "outputs": []
    },
    {
      "metadata": {},
      "cell_type": "markdown",
      "source": "Black and Scholes assumed:\n1. A continuously-compounded interest rate of r.\n2. Geometric Brownian motion dynamics for the stock price, St\n, so that, \n$ S_t = S_0e^{(µ−σ^2/2)t+σW_t} $\nwhere $W_t$\nis a standard Brownian motion.\n3. The stock pays a dividend yield of c.\n4. Continuous trading with no transactions costs and short-selling allowed"
    },
    {
      "metadata": {},
      "cell_type": "markdown",
      "source": "The Black-Scholes formula for the price of a European call option with strike\nK and maturity T is given by\n$C_0 = S_0e^{−cT} * N(d1) − Ke^{−rT} * N(d2) $\nwhere\n$d1 = (log(S_0/K) + (r − c + σ^2/2)T)/ σ√T $ ,\nand\nd2 = d1 − σ√T\nand N(d) = P(N(0, 1) ≤ d) - normal distribution \n\n"
    },
    {
      "metadata": {},
      "cell_type": "markdown",
      "source": "Often specify a binomial model in terms of Black-Scholes parameters:\n1. r, the continuously compounded interest rate.\n2. σ, the annualized volatility."
    },
    {
      "metadata": {
        "trusted": true
      },
      "cell_type": "code",
      "source": "def Parameter(T,n,sigma,r,c):\n    \"\"\"Parameter calculation\"\"\"  \n    '''T is the time to maturity and n is the number of periods'''\n    '''sigma is the volatility'''\n    '''r is the the continuously compounded interest rate'''\n    dt = T/n\n    u = exp(sigma * sqrt(dt))\n    d = 1/u\n    \n    q1 = (exp((r-c)*dt)-d)/(u-d)\n    q2 = 1-q1\n    R = exp(r*dt)\n    \n    return (u, d, R, q1, q2)",
      "execution_count": 8,
      "outputs": []
    },
    {
      "metadata": {},
      "cell_type": "markdown",
      "source": "Once the above parameters are calculated, the multiperiod bionomial model is calibrated by using them and the latter can be used to price options"
    },
    {
      "metadata": {
        "trusted": true
      },
      "cell_type": "code",
      "source": "def bionomial_model(T,n,sigma,r,c, S):\n    '''S is the stock price at t = 0'''\n    '''u and d are the multiplier with which the stock price \"S\" moves up and down respectively'''\n    '''R is risk free interest rate'''\n    '''n is the number of time periods until maturity'''\n    \n    u, d, R, q1, q2 = Parameter(T,n,sigma,r,c)\n    #Calculate stock trr, ie. stock prices at every time interval\n    stockTree = np.zeros((n+1, n+1))  \n    stockTree[0,0] = S\n    for i in range(1,n+1):\n        stockTree[0,i] = stockTree[0, i-1]*u\n        for j in range(1,n+1):\n            stockTree[j,i] = stockTree[j-1, i-1]*d\n    return stockTree\n    ",
      "execution_count": 9,
      "outputs": []
    },
    {
      "metadata": {
        "trusted": true
      },
      "cell_type": "code",
      "source": "def european_call(T,n,sigma,r,c, S, K):\n    '''u, d, R, S are described as above'''\n    '''K is the strike price'''\n    u, d, R, q1, q2 = Parameter(T,n,sigma,r,c)\n    stockTree = bionomial_model(T,n,sigma,r,c)\n    \n    # compute the option tree\n    optionTree = np.zeros((n+1,n+1))\n    for j in range(n+1):\n        optionTree[j, n] = max(0,  (stockTree[j, n]-K))\n        \n    q1 = calculate_risk_neutral_prob(u, d, R) \n    q2 = 1 - q1\n    '''q1 and q2 are called risk neutral probabilities'''\n    for i in range(n-1,-1,-1):\n        for j in range(i+1):\n            optionTree[j, i] = (q1 * optionTree[j, i+1] + q2 * optionTree[j+1, i+1])/R\n   \n                \n    return optionTree",
      "execution_count": 10,
      "outputs": []
    },
    {
      "metadata": {
        "trusted": true
      },
      "cell_type": "code",
      "source": "def european_put(T,n,sigma,r,c, S, K):\n    '''u, d, R, S are described as above'''\n    '''K is the strike price'''\n    u, d, R, q1, q2 = Parameter(T,N,sigma,r,c)\n    stockTree = bionomial_model(T,n,sigma,r,c)\n    \n    # compute the option tree\n    optionTree = np.zeros((n+1,n+1))\n    for j in range(n+1):\n        optionTree[j, n] = max(0,  (K - stockTree[j, n]))\n        \n    q1 = calculate_risk_neutral_prob(u, d, R) \n    q2 = 1 - q1\n    '''q1 and q2 are called risk neutral probabilities'''\n    for i in range(n-1,-1,-1):\n        for j in range(i+1):\n            optionTree[j, i] = (q1 * optionTree[j, i+1] + q2 * optionTree[j+1, i+1])/R\n   \n                \n    return optionTree",
      "execution_count": 11,
      "outputs": []
    },
    {
      "metadata": {
        "trusted": true
      },
      "cell_type": "code",
      "source": "def american_put (T,n,sigma,r,c, S, K):\n    '''parameters remain same as defined above'''\n    u, d, R, q1, q2 = Parameter(T,n,sigma,r,c)\n    optionTree = european_put(T,n,sigma,r,c, S, K)\n    stockTree = bionomial_model(T,n,sigma,r,c, S, K)\n    q1 = (R - d) / (u - d) \n    q2 = 1 - q1\n    \n    print(stockTree)\n    print(\"risk neutral probability is \" + str(q1))\n    print(optionTree)\n    \n    #checking if early excercise is a good option \n    flag = 0 \n    list = []\n    for i in range(n-1,-1,-1):\n        for j in range(i+1):\n            optionTree[j, i] = max((q1 * optionTree[j, i+1] + q2 * optionTree[j+1, i+1])/R,   \n                               (stockTree[j, i] - K))           \n            #if the amount obtained by selling the option (Stock price - strike) is more than the oprion price, exercise early\n            if (optionTree[j, i] - (stockTree[j, i] - K)) < 1e-10:\n                flag += 1\n                list.append(i)\n    \n    when = n\n    if(flag):  when = list[-1]\n    print(\"Can be exercised at time period \" + str(when) + \" with value \" + str(optionTree[0][0]))\n    return (optionTree[0,0], when)",
      "execution_count": 12,
      "outputs": []
    },
    {
      "metadata": {
        "trusted": true
      },
      "cell_type": "code",
      "source": "",
      "execution_count": null,
      "outputs": []
    }
  ],
  "metadata": {
    "kernelspec": {
      "name": "python3",
      "display_name": "Python 3",
      "language": "python"
    },
    "language_info": {
      "mimetype": "text/x-python",
      "nbconvert_exporter": "python",
      "name": "python",
      "pygments_lexer": "ipython3",
      "version": "3.5.4",
      "file_extension": ".py",
      "codemirror_mode": {
        "version": 3,
        "name": "ipython"
      }
    }
  },
  "nbformat": 4,
  "nbformat_minor": 2
}