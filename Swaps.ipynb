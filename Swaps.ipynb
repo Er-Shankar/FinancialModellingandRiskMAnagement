{
  "cells": [
    {
      "metadata": {
        "collapsed": true
      },
      "cell_type": "markdown",
      "source": "### Caplets and floorlet\nA caplet is similar to a European call option on the interest rate, $ r_t $.\n\nUsually \"settled in arrears\" but they may also be settled in advance - which means payoff at t will be paid at t+1 (we'll hence need to discount our payments at the last period.)\n\nIf maturity is τ and strike is c, then payoff of a caplet (settled in arrears) at\ntime τ is max(0, $ r_{t-1} $ − c) so the caplet is a call option on the short rate prevailing at time τ − 1, settled at time τ .\n\nA floorlet is the same as a caplet except the payoff is max(0, c − $r_{τ−1}$).\n\nA cap consists of a sequence of caplets all of which have the same strike.\nA floor consists of a sequence of floorlets all of which have the same strike."
    },
    {
      "metadata": {
        "trusted": true
      },
      "cell_type": "code",
      "source": "import numpy as np\nimport matplotlib.pyplot as plt\nfrom math import exp, sqrt, pow\nimport pandas as pd",
      "execution_count": 1,
      "outputs": []
    },
    {
      "metadata": {
        "trusted": true
      },
      "cell_type": "code",
      "source": "np.set_printoptions(formatter={'float': lambda x: \"{0:0.2f}\".format(x)})",
      "execution_count": 48,
      "outputs": []
    },
    {
      "metadata": {
        "trusted": true
      },
      "cell_type": "code",
      "source": "def short_rate(u, d, n, r):\n    shortRateTree = np.zeros((n+1, n+1))  \n    shortRateTree[0,0] = r\n    for i in range(1,n+1):\n        shortRateTree[0,i] = shortRateTree[0, i-1]*u\n        for j in range(1,n+1):\n            shortRateTree[j,i] = shortRateTree[j-1, i-1]*d\n            \n    return shortRateTree",
      "execution_count": 2,
      "outputs": []
    },
    {
      "metadata": {
        "trusted": true
      },
      "cell_type": "code",
      "source": "print(short_rate(1.25, 0.9, 5, 6))\n#This is a rather unrealistic situation for we can see interest rates rising upto 18% or more which does not happen in the economy, but\n#for the sake of an argument",
      "execution_count": 3,
      "outputs": [
        {
          "output_type": "stream",
          "text": "[[ 6.          7.5         9.375      11.71875    14.6484375  18.31054688]\n [ 0.          5.4         6.75        8.4375     10.546875   13.18359375]\n [ 0.          0.          4.86        6.075       7.59375     9.4921875 ]\n [ 0.          0.          0.          4.374       5.4675      6.834375  ]\n [ 0.          0.          0.          0.          3.9366      4.92075   ]\n [ 0.          0.          0.          0.          0.          3.54294   ]]\n",
          "name": "stdout"
        }
      ]
    },
    {
      "metadata": {
        "trusted": true
      },
      "cell_type": "code",
      "source": "def price_caplet(u, d, n, r, c):\n    '''Caplet has a strike price c'''\n    # pay off at the final time period, ie, n is max(c-r_n , 0) which will be paid at n+1 hence discounted by (1+r_n)\n    shortRateTree = short_rate(u, d, n, r)\n    capletPrice = np.zeros((n+1, n+1))\n    q1 = 0.5\n    q2 = 1 - q1\n    for i in range(n+1):\n        capletPrice[i, n] = (max(0, shortRateTree[i,n]/100 - c/100))/(1+shortRateTree[i,n]/100)\n    i = n-1\n    while i+1:\n        for j in range(i+1):\n            capletPrice[j, i] = (q2 * capletPrice[j, i+1] + q1 * capletPrice[j+1, i+1])/(1+shortRateTree[j,i]/100)\n        i-=1\n    return capletPrice\n    ",
      "execution_count": 11,
      "outputs": []
    },
    {
      "metadata": {
        "trusted": true
      },
      "cell_type": "code",
      "source": "print(price_caplet(1.25, 0.9, 5, 6, 2))",
      "execution_count": 12,
      "outputs": [
        {
          "output_type": "stream",
          "text": "[[0.04204522 0.05150267 0.06367244 0.08004766 0.10321618 0.13786215]\n [0.         0.03763321 0.0470583  0.0592358  0.07564031 0.09880932]\n [0.         0.         0.0322725  0.04123367 0.05282733 0.06842669]\n [0.         0.         0.         0.02644821 0.03464991 0.04525112]\n [0.         0.         0.         0.         0.02056019 0.02783768]\n [0.         0.         0.         0.         0.         0.01490145]]\n",
          "name": "stdout"
        }
      ]
    },
    {
      "metadata": {},
      "cell_type": "markdown",
      "source": "### Interest rate swaps"
    },
    {
      "metadata": {
        "trusted": true
      },
      "cell_type": "code",
      "source": "def price_swaps(u, d, n, r, c):\n    '''swap price is +-(r[t]-c) where c is the strike price, It is the constant payment done in every time period. \n    The final price is discounted since it is payed in arears as well'''\n    shortRateTree = short_rate(u, d, n, r )\n    swapPrice = np.zeros((n+1, n+1))\n    q1 = 0.5\n    q2 = 1 - q1\n    for i in range(n+1):\n        swapPrice[i, n] = (shortRateTree[i,n]/100 - c/100)/(1+shortRateTree[i,n]/100)\n    i = n-1\n    while i+1:\n        for j in range(i+1):\n            swapPrice[j, i] = ((shortRateTree[j,i]/100 - c/100) + q2 * swapPrice[j, i+1] + q1 * swapPrice[j+1, i+1])/(1+shortRateTree[j,i]/100)\n        i-=1\n    return swapPrice\n    ",
      "execution_count": 24,
      "outputs": []
    },
    {
      "metadata": {
        "trusted": true
      },
      "cell_type": "code",
      "source": "price_swaps(1.25, 0.9, 5, 6, 5)",
      "execution_count": 25,
      "outputs": [
        {
          "output_type": "execute_result",
          "execution_count": 25,
          "data": {
            "text/plain": "array([[0.0990, 0.1403, 0.1686, 0.1793, 0.1648, 0.1125],\n       [0.0000, 0.0496, 0.0829, 0.1021, 0.1014, 0.0723],\n       [0.0000, 0.0000, 0.0137, 0.0400, 0.0512, 0.0410],\n       [0.0000, 0.0000, 0.0000, -0.0085, 0.0122, 0.0172],\n       [0.0000, 0.0000, 0.0000, 0.0000, -0.0174, -0.0008],\n       [0.0000, 0.0000, 0.0000, 0.0000, 0.0000, -0.0141]])"
          },
          "metadata": {}
        }
      ]
    },
    {
      "metadata": {},
      "cell_type": "markdown",
      "source": "### SWAPSONS\nSwapsons are options on swaps.\nWe create the swap payoff lattice\nThen we create an option lattice on top of it, based on the time period of the option and strike of the option (which is different from \nstrike of the swap)"
    },
    {
      "metadata": {
        "trusted": true
      },
      "cell_type": "code",
      "source": "def price_swapsons(u, d, n, r, c, N, K):\n    '''N is the maturity of the swapson and K is the strike of the option'''\n    shortRateTree = short_rate(u, d, n, r )\n    swapPrice = price_swaps(u, d, n, r, c)\n    swapsonPrice = np.zeros((N+1, N+1))\n    q1 = 0.5\n    q2 = 1 - q1\n    for i in range(N+1):\n        swapsonPrice[i, N] = max(0, swapPrice[i,N]-K/100)\n    i = N-1\n    while i+1:\n        for j in range(i+1):\n            swapsonPrice[j, i] = (q2 * swapsonPrice[j, i+1] + q1 * swapsonPrice[j+1, i+1])/(1+shortRateTree[j,i]/100)\n        i-=1\n    return swapsonPrice\n    ",
      "execution_count": 29,
      "outputs": []
    },
    {
      "metadata": {
        "trusted": true
      },
      "cell_type": "code",
      "source": "price_swapsons(1.25, 0.9, 5, 6, 5, 3, 0)",
      "execution_count": 30,
      "outputs": [
        {
          "output_type": "execute_result",
          "execution_count": 30,
          "data": {
            "text/plain": "array([[0.0620, 0.0908, 0.1286, 0.1793],\n       [0.0000, 0.0406, 0.0665, 0.1021],\n       [0.0000, 0.0000, 0.0191, 0.0400],\n       [0.0000, 0.0000, 0.0000, 0.0000]])"
          },
          "metadata": {}
        }
      ]
    },
    {
      "metadata": {},
      "cell_type": "markdown",
      "source": "### Forward equations"
    },
    {
      "metadata": {
        "trusted": true
      },
      "cell_type": "code",
      "source": "def forward_equations(u, d, n, r):\n    forwardTree = np.zeros((n+1, n+1))\n    shortRate = short_rate(u, d, n, r)\n    print(shortRate)\n    forwardTree[0,0]=1\n    for i in range(1, n+1):\n        for j in range(i+1):\n            if j==0:\n                forwardTree[j, i] = 0.5*(forwardTree[j,i-1]/(1+shortRate[j, i-1]/100))\n            else:\n                forwardTree[j, i] = 0.5*(forwardTree[j,i-1]/(1+shortRate[j, i-1]/100)) + 0.5*(forwardTree[j-1,i-1]/(1+shortRate[j-1, i-1]/100))\n            \n    return forwardTree",
      "execution_count": 40,
      "outputs": []
    },
    {
      "metadata": {
        "trusted": true
      },
      "cell_type": "code",
      "source": "forward_equations(1.25, 0.9, 5, 6)",
      "execution_count": 43,
      "outputs": [
        {
          "output_type": "stream",
          "text": "[[6.0000 7.5000 9.3750 11.7188 14.6484 18.3105]\n [0.0000 5.4000 6.7500 8.4375 10.5469 13.1836]\n [0.0000 0.0000 4.8600 6.0750 7.5938 9.4922]\n [0.0000 0.0000 0.0000 4.3740 5.4675 6.8344]\n [0.0000 0.0000 0.0000 0.0000 3.9366 4.9207]\n [0.0000 0.0000 0.0000 0.0000 0.0000 3.5429]]\n",
          "name": "stdout"
        },
        {
          "output_type": "execute_result",
          "execution_count": 43,
          "data": {
            "text/plain": "array([[1.0000, 0.4717, 0.2194, 0.1003, 0.0449, 0.0196],\n       [0.0000, 0.4717, 0.4432, 0.3079, 0.1868, 0.1041],\n       [0.0000, 0.0000, 0.2238, 0.3143, 0.2901, 0.2193],\n       [0.0000, 0.0000, 0.0000, 0.1067, 0.1992, 0.2293],\n       [0.0000, 0.0000, 0.0000, 0.0000, 0.0511, 0.1190],\n       [0.0000, 0.0000, 0.0000, 0.0000, 0.0000, 0.0246]])"
          },
          "metadata": {}
        }
      ]
    },
    {
      "metadata": {
        "trusted": true
      },
      "cell_type": "code",
      "source": "def price_swap_forward_equation(u, d, n, r, c):\n    shortRate = short_rate(u, d, n, r)\n    forward = forward_equations(u, d, n, r)\n    price = 0\n    for i in range(1, n):\n        for j in range(i+1):\n            price += forward[j,i]*((c/100 - shortRate[j,i]/100)/(1+shortRate[j,i]/100))\n    print(price)\n    return price    ",
      "execution_count": 53,
      "outputs": []
    },
    {
      "metadata": {
        "trusted": true
      },
      "cell_type": "code",
      "source": "price_swap_forward_equation(1.25, 0.9, 3, 6, 7) * 1000000",
      "execution_count": 54,
      "outputs": [
        {
          "output_type": "stream",
          "text": "[[6.00 7.50 9.38 11.72]\n [0.00 5.40 6.75 8.44]\n [0.00 0.00 4.86 6.08]\n [0.00 0.00 0.00 4.37]]\n0.005807056684766097\n",
          "name": "stdout"
        },
        {
          "output_type": "execute_result",
          "execution_count": 54,
          "data": {
            "text/plain": "5807.056684766097"
          },
          "metadata": {}
        }
      ]
    },
    {
      "metadata": {
        "trusted": true
      },
      "cell_type": "code",
      "source": "price_swap_forward_equation(1.1, 0.9, 11, 5, 4.5)*1000000",
      "execution_count": 57,
      "outputs": [
        {
          "output_type": "stream",
          "text": "[[5.00 5.50 6.05 6.66 7.32 8.05 8.86 9.74 10.72 11.79 12.97 14.27]\n [0.00 4.50 4.95 5.45 5.99 6.59 7.25 7.97 8.77 9.65 10.61 11.67]\n [0.00 0.00 4.05 4.46 4.90 5.39 5.93 6.52 7.17 7.89 8.68 9.55]\n [0.00 0.00 0.00 3.65 4.01 4.41 4.85 5.34 5.87 6.46 7.10 7.81]\n [0.00 0.00 0.00 0.00 3.28 3.61 3.97 4.37 4.80 5.28 5.81 6.39]\n [0.00 0.00 0.00 0.00 0.00 2.95 3.25 3.57 3.93 4.32 4.75 5.23]\n [0.00 0.00 0.00 0.00 0.00 0.00 2.66 2.92 3.22 3.54 3.89 4.28]\n [0.00 0.00 0.00 0.00 0.00 0.00 0.00 2.39 2.63 2.89 3.18 3.50]\n [0.00 0.00 0.00 0.00 0.00 0.00 0.00 0.00 2.15 2.37 2.60 2.86]\n [0.00 0.00 0.00 0.00 0.00 0.00 0.00 0.00 0.00 1.94 2.13 2.34]\n [0.00 0.00 0.00 0.00 0.00 0.00 0.00 0.00 0.00 0.00 1.74 1.92]\n [0.00 0.00 0.00 0.00 0.00 0.00 0.00 0.00 0.00 0.00 0.00 1.57]]\n-0.03337424206216373\n",
          "name": "stdout"
        },
        {
          "output_type": "execute_result",
          "execution_count": 57,
          "data": {
            "text/plain": "-33374.24206216373"
          },
          "metadata": {}
        }
      ]
    },
    {
      "metadata": {
        "trusted": true
      },
      "cell_type": "code",
      "source": "#6.\nprice_swapsons(1.1, 0.9, 10, 5, 4.5, 5, 0)[0,0] * 1000000",
      "execution_count": 33,
      "outputs": [
        {
          "output_type": "execute_result",
          "execution_count": 33,
          "data": {
            "text/plain": "26311.07949019225"
          },
          "metadata": {}
        }
      ]
    },
    {
      "metadata": {
        "trusted": true
      },
      "cell_type": "code",
      "source": "",
      "execution_count": null,
      "outputs": []
    }
  ],
  "metadata": {
    "kernelspec": {
      "name": "python36",
      "display_name": "Python 3.6",
      "language": "python"
    },
    "language_info": {
      "mimetype": "text/x-python",
      "nbconvert_exporter": "python",
      "name": "python",
      "pygments_lexer": "ipython3",
      "version": "3.6.6",
      "file_extension": ".py",
      "codemirror_mode": {
        "version": 3,
        "name": "ipython"
      }
    }
  },
  "nbformat": 4,
  "nbformat_minor": 2
}