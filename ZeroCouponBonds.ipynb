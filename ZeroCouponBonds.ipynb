{
  "cells": [
    {
      "metadata": {
        "collapsed": true
      },
      "cell_type": "markdown",
      "source": "### Zero coupon bonds\n\n1. These bonds, as the name suggests, do not pay semi or annunal coupons to the holder.\n\n\n2. These bonds are issued at a deep discount and repay the par value, at maturity. The difference between the purchase price and the par value represents the \"investor's return\". The payment received by the investor is equal to the principal invested plus the interest earned, compounded semiannually, at a stated yield. \n\n\n3. The disadvange of holding these bonds, is even though there are no coupon payments, the holder still has to pay income tax on the interest received at maturity.\n\n\n4. Assume a bond with a face amount of \\$20,000, that matures in 20 years, with a 5.5% yield, may be purchased for roughly \\$6,757 ($ 20000/(1+1.05)^{20} $). At the end of the 20 years, the investor will receive \\$20,000. The difference between \\$20,000 and \\$6,757 (or \\$13,243) represents the interest that compounds automatically until the bond matures. This interest received is called \"imputed interest\" or \"phantom interest\"."
    },
    {
      "metadata": {
        "trusted": true
      },
      "cell_type": "code",
      "source": "import numpy as np\nimport matplotlib.pyplot as plt\nfrom math import exp, sqrt, pow\nimport pandas as pd",
      "execution_count": 4,
      "outputs": [
        {
          "output_type": "stream",
          "text": "/home/nbuser/anaconda3_420/lib/python3.5/site-packages/matplotlib/font_manager.py:281: UserWarning: Matplotlib is building the font cache using fc-list. This may take a moment.\n  'Matplotlib is building the font cache using fc-list. '\n",
          "name": "stderr"
        }
      ]
    },
    {
      "metadata": {},
      "cell_type": "markdown",
      "source": "The short-rate, $r_t$, is the variable of interest in many fixed income models, that we shall use rather than considering a fixed interest rate.\n  – $r_t$ is the risk-free rate that applies between periods t and t + 1\n  – it is a random process but $r_t$ is known by time t.\n  \nHence $r_t$ is calculated by using the multi-period binomial model. We shall return the \"short rate lattice\" that gives us the borrowing and lending rate in just the next time period"
    },
    {
      "metadata": {
        "trusted": true
      },
      "cell_type": "code",
      "source": "def short_rate(u, d, n, r):\n    shortRateTree = np.zeros((n+1, n+1))  \n    shortRateTree[0,0] = r\n    for i in range(1,n+1):\n        shortRateTree[0,i] = shortRateTree[0, i-1]*u\n        for j in range(1,n+1):\n            shortRateTree[j,i] = shortRateTree[j-1, i-1]*d\n            \n    return shortRateTree",
      "execution_count": 2,
      "outputs": []
    },
    {
      "metadata": {
        "trusted": true
      },
      "cell_type": "code",
      "source": "print(short_rate(1.25, 0.9, 5, 6))\n#This is a rather unrealistic situation for we can see interest rates rising upto 18% or more which does not happen in the economy, but\n#for the sake of an argument",
      "execution_count": 5,
      "outputs": [
        {
          "output_type": "stream",
          "text": "[[ 6.          7.5         9.375      11.71875    14.6484375  18.31054688]\n [ 0.          5.4         6.75        8.4375     10.546875   13.18359375]\n [ 0.          0.          4.86        6.075       7.59375     9.4921875 ]\n [ 0.          0.          0.          4.374       5.4675      6.834375  ]\n [ 0.          0.          0.          0.          3.9366      4.92075   ]\n [ 0.          0.          0.          0.          0.          3.54294   ]]\n",
          "name": "stdout"
        }
      ]
    },
    {
      "metadata": {
        "trusted": true
      },
      "cell_type": "code",
      "source": "def bond_price(u, d, n, r, F, c = 0):\n    '''F is the par value of the bond to be obtained at maturity, in other words the price at n'''\n    bondPrice = np.zeros((n+1, n+1)) \n    shortRateTree = short_rate(u, d, n, r)\n    for i in range(n+1):\n        bondPrice[i, n] = F+c\n    i = n-1\n    q1 = 1/2\n    q2 = 1/2\n    while i+1:\n        for j in range(i+1):\n            bondPrice[j, i] = (q1*bondPrice[j+1, i+1] + q2*bondPrice[j, i+1])/(1+(shortRateTree[j,i]/100)) +c \n            \n        i-=1\n    return bondPrice, bondPrice[0,0]",
      "execution_count": 6,
      "outputs": []
    },
    {
      "metadata": {
        "trusted": true
      },
      "cell_type": "code",
      "source": "print(bond_price(1.25, 0.9, 4, 6, 100))",
      "execution_count": 7,
      "outputs": [
        {
          "output_type": "stream",
          "text": "(array([[ 77.21774033,  79.26800103,  83.07634728,  89.51048951,\n        100.        ],\n       [  0.        ,  84.43360847,  87.34985493,  92.21902017,\n        100.        ],\n       [  0.        ,   0.        ,  90.63619172,  94.2729201 ,\n        100.        ],\n       [  0.        ,   0.        ,   0.        ,  95.80930117,\n        100.        ],\n       [  0.        ,   0.        ,   0.        ,   0.        ,\n        100.        ]]), 77.217740328716)\n",
          "name": "stdout"
        }
      ]
    },
    {
      "metadata": {},
      "cell_type": "markdown",
      "source": "### Calculating spot rate\nBasically the spot rate is calculated by finding the discount rate that makes the present value (PV) of a zero-coupon bond equal to its price. These are based on future interest rate assumptions.\n\nSo, now given the bond price calculator, we can calculate the prices of bonds at different maturities and then get the spot rates corresponding to those and plot the curve."
    },
    {
      "metadata": {
        "trusted": true
      },
      "cell_type": "code",
      "source": "def get_bond_price_maturities(u, d, n, r, F):\n    '''returns a list of bond prices of face value F with maturities 0 upto n'''\n    listPrice = []\n    listMaturity = []\n    for i in range(n+1):\n        if i==0:\n            continue\n        bondPrice = bond_price(u, d, i, r, F)[1]\n        #print(bondPrice)\n        listPrice.append(bondPrice)\n        listMaturity.append(i)\n    final  = pd.DataFrame([(pd.Series(listPrice)).T, (pd.Series(listMaturity)).T])\n    final = final.T\n    final.columns = ['bond price', 'maturity']\n    return final",
      "execution_count": 8,
      "outputs": []
    },
    {
      "metadata": {
        "trusted": true
      },
      "cell_type": "code",
      "source": "print(get_bond_price_maturities(1.25, 0.9, 4, 6, 100))",
      "execution_count": 9,
      "outputs": [
        {
          "output_type": "stream",
          "text": "   bond price  maturity\n0   94.339623       1.0\n1   88.632036       2.0\n2   82.912230       3.0\n3   77.217740       4.0\n",
          "name": "stdout"
        }
      ]
    },
    {
      "metadata": {
        "trusted": true
      },
      "cell_type": "code",
      "source": "def calculate_spot_rates(u, d, n, r, F):\n    df = get_bond_price_maturities(u, d, n, r, F)\n    spotRates = []\n    for i in range(n):\n        frac = F/(df['bond price'].iloc[i])\n        s = np.power(frac,(1/df['maturity'].iloc[i])) - 1\n        spotRates.append(s*100)\n    plt.plot(spotRates)\n    plt.xlabel(\"Time to maturity\")\n    plt.ylabel(\"Spot rates\")\n    plt.title(\"Yield curve, with zero coupon bond with principle \"+str(F) + \" and various maturities\")   \n    return spotRates",
      "execution_count": 10,
      "outputs": []
    },
    {
      "metadata": {
        "trusted": true
      },
      "cell_type": "code",
      "source": "print(calculate_spot_rates(1.15, 0.9, 25, 6, 100))",
      "execution_count": 11,
      "outputs": [
        {
          "output_type": "stream",
          "text": "[6.000000000000005, 6.0723257728695135, 6.143887283400984, 6.214529961703263, 6.284097891471552, 6.352435419288804, 6.419388864556175, 6.484808286708765, 6.548549259993264, 6.610474602131378, 6.670456002254288, 6.72837549589731, 6.784126740592877, 6.837616054330509, 6.888763190177993, 6.937501832741799, 6.983779814835067, 7.027559064689748, 7.068815304424669, 7.107537528639285, 7.143727297616631, 7.177397882645287, 7.208573301611865, 7.237287281641636, 7.263582182644135]\n",
          "name": "stdout"
        },
        {
          "output_type": "display_data",
          "data": {
            "image/png": "[encoded data removed]",
            "text/plain": "<matplotlib.figure.Figure at 0x7f5720da7b70>"
          },
          "metadata": {}
        }
      ]
    },
    {
      "metadata": {},
      "cell_type": "markdown",
      "source": "### Yield curve\n\nA yield curve is a graphical presentation of the term structure of interest rates, the relationship between short-term and long-term bond yields. It is plotted with bond yield on the vertical axis and the years to maturity on the horizontal axis.\n\n#### Yield curve types:\n\n1 . Normal yield curve\nIn general, long-term yields are typically higher than short-term yield due to the higher risk involved in long-term investment. Since this is the most common shape of the yield curve, it is called the normal yield curve.\n\nNormal yield curve typically exist when an economy is neither in a recession nor there is any major risk of overheating. The yellow curve in the chart below which corresponds to 2018 is an example of the normal yield curve.\n\n2 . Steep yield curve\nA steep yield curve is the one in which the short-term yields are at normal level, but the long-term yields are higher.\n\nA steep yield curve signals that the interest rates are expected to be increase in future. This is represented by the black line corresponding to a period in 2013.\n\n3 . Flat yield curve\nA flat curve is one in which there is no significant difference between yields on short-term and long-term debt. Since the long-term yield is lower than normal, a flat yield curve signals a slow-down in the economy and a decrease in interest rates.\n\nWhen the yield curve is flat, no one would want to obtain long-term debt because they expect interest rates to fall. It is a precursor of recession.\n\n4 . Inverted yield curve\nAn inverted yield curve is just opposite of the normal yield curve (therefore, it is also called abnormal yield curve). When the yield for shorter maturities is higher than the yield for longer maturities, the yield curve slopes downward and the graph looks inverted."
    },
    {
      "metadata": {},
      "cell_type": "markdown",
      "source": "Yield Curves plotted during different times in history:"
    },
    {
      "metadata": {
        "trusted": true
      },
      "cell_type": "code",
      "source": "time_to_maturity = [0.5, 1, 2, 3, 5, 7, 10, 20, 30]\naug_31_2000 = [6.38, 6.22, 6.18, 6.09, 5.98, 5.98, 5.73, 5.96, 5.67]\nmar_3_2006 = [4.75, 4.75, 4.76, 4.75, 4.71, 4.69, 4.68, 4.84, 4.66]\nsep_26_2013 = [0.03, 0.09, 0.34, 0.67, 1.43, 2.05, 2.66, 3.41, 3.69]\nfeb_11_2018 = [2.5, 2.7, 2.91, 2.98, 3.04, 3.13, 3.22, 3.37, 3.46]\nplt.plot(time_to_maturity, aug_31_2000, color = 'b', label = 'inverted')\nplt.plot(time_to_maturity, mar_3_2006, color = 'r', label = 'flat')\nplt.plot(time_to_maturity, sep_26_2013, color = 'k', label = 'steep')\nplt.plot(time_to_maturity, feb_11_2018, color = 'y', label = 'normal')\nplt.xlabel(\"Time to maturity\")\nplt.ylabel(\"Spot rates\")\nplt.title(\"Yield curves\")\nplt.legend(loc=\"upper left\")\nplt.figure(figsize=(1,1)) \n\n'''source of the data - https://xplaind.com/128027/yield-curve '''",
      "execution_count": 12,
      "outputs": [
        {
          "output_type": "execute_result",
          "execution_count": 12,
          "data": {
            "text/plain": "'source of the data - https://xplaind.com/128027/yield-curve '"
          },
          "metadata": {}
        },
        {
          "output_type": "display_data",
          "data": {
            "image/png": "[encoded data removed]",
            "text/plain": "<matplotlib.figure.Figure at 0x7f5720cf92e8>"
          },
          "metadata": {}
        },
        {
          "output_type": "display_data",
          "data": {
            "text/plain": "<matplotlib.figure.Figure at 0x7f5720ca7b38>"
          },
          "metadata": {}
        }
      ]
    },
    {
      "metadata": {
        "trusted": true
      },
      "cell_type": "markdown",
      "source": "### Pricing options on ZCBs:\n\nConsider an option on a ZCB, where the option matures after N periods and the ZCB does after n. So we calibrate the lattice of the ZCB starting N, and the calculate the option prices using the prices at n.\n\n$ O_{i,j} = (q1 * O_{i+1,j} + q2 * O_{i+1, j+1})/(1 + r_{i,j} ) $"
    },
    {
      "metadata": {
        "trusted": true
      },
      "cell_type": "code",
      "source": "def EU_call_option(u, d, n, r, F, K, N):\n    '''N is the maturity of the option and K is the strike price'''\n    #we calculate the short rate matrix\n    shortRate = short_rate(u, d, n, r)\n    #get the correponding bond price lattice\n    bondPrice = bond_price(u, d, n, r, F)[0]\n    q1 = 1/2\n    q2 = 1/2\n    optionPrice = np.zeros((N+1, N+1))\n    i = N\n    while i+1:\n        optionPrice[i, N] = max(0, bondPrice[i, N]-K)\n        i-=1\n    i = N-1\n    while i+1:\n        for j in range(i+1):\n            optionPrice[j, i] = (q1 * optionPrice[j+1,i+1] + q2 * optionPrice[j, i+1])/(1 + shortRate[j, i]/100)\n        i -= 1\n    print(optionPrice[0,0])\n    return optionPrice",
      "execution_count": 27,
      "outputs": []
    },
    {
      "metadata": {
        "trusted": true
      },
      "cell_type": "code",
      "source": "EU_call_option(1.25, 0.9, 4, 6, 100, 84, 2)",
      "execution_count": 28,
      "outputs": [
        {
          "output_type": "stream",
          "text": "2.969474453180651\n",
          "name": "stdout"
        },
        {
          "output_type": "execute_result",
          "execution_count": 28,
          "data": {
            "text/plain": "array([[2.97, 1.56, 0.00],\n       [0.00, 4.74, 3.35],\n       [0.00, 0.00, 6.64]])"
          },
          "metadata": {}
        }
      ]
    },
    {
      "metadata": {
        "trusted": true
      },
      "cell_type": "code",
      "source": "def AM_put_option(u, d, n, r, F, K, N):\n    '''N is the maturity of the option and K is the strike price'''\n    #we calculate the short rate matrix\n    shortRate = short_rate(u, d, n, r)\n    #get the correponding bond price lattice\n    bondPrice = bond_price(u, d, n, r, F)[0]\n    q1 = 1/2\n    q2 = 1/2\n    optionPrice = np.zeros((N+1, N+1))\n    i = N\n    while i+1:\n        optionPrice[i, N] = max(0, K-bondPrice[i, N])\n        i-=1\n    i = N-1\n    when = []\n    while i+1:\n        for j in range(i+1):\n            optionPrice[j, i] = (q1 * optionPrice[j+1,i+1] + q2 * optionPrice[j, i+1])/(1 + shortRate[j, i]/100)\n            if_sold = max(0, K-bondPrice[j,i])\n            if(if_sold>optionPrice[j,i]):\n                if i not in when:\n                    when.append(i)\n                optionPrice[j,i] = if_sold\n        i -= 1\n    print(when)\n    return optionPrice",
      "execution_count": 15,
      "outputs": []
    },
    {
      "metadata": {
        "trusted": true
      },
      "cell_type": "code",
      "source": "AM_put_option(1.25, 0.9, 4, 6, 100, 88, 3)\n##Turns out it’s optimal early-exercise everywhere\n##– not a very realistic example.",
      "execution_count": 16,
      "outputs": [
        {
          "output_type": "stream",
          "text": "[2, 1, 0]\n",
          "name": "stdout"
        },
        {
          "output_type": "execute_result",
          "execution_count": 16,
          "data": {
            "text/plain": "array([[10.78225967,  8.73199897,  4.92365272,  0.        ],\n       [ 0.        ,  3.56639153,  0.65014507,  0.        ],\n       [ 0.        ,  0.        ,  0.        ,  0.        ],\n       [ 0.        ,  0.        ,  0.        ,  0.        ]])"
          },
          "metadata": {}
        }
      ]
    },
    {
      "metadata": {},
      "cell_type": "markdown",
      "source": "### Pricing Forwards on Bonds\nFor pricing forwards, we have to keep in mind,\n1. Forward contract costs 0 at time = 0.\n2. so we have $ 0 = E_0^Q[(Z^N - G_0)/B_n] $ for a forward contract with N maturity and bond with n maturity, hence,\n   $ G_0 = E_0^Q[(Z^N/B_n)]/ E_0^Q[1/B_n] $\n   $ E_0^Q[1/B_n] $ is the price of a ZCB with face value 1\\$ and maturity n and $ E_0^Q[(Z^N/B_n)] $ is just the pric of a ZCB with maturity N and given face-value"
    },
    {
      "metadata": {
        "trusted": true
      },
      "cell_type": "code",
      "source": "np.set_printoptions(formatter={'float': lambda x: \"{0:0.2f}\".format(x)})",
      "execution_count": 17,
      "outputs": []
    },
    {
      "metadata": {
        "trusted": true
      },
      "cell_type": "code",
      "source": "def forward_price(u, d, n, r, F, N, c=0):\n    '''c is the coupon price'''\n    #get the correponding bond price lattice\n    bondPrice = np.zeros((n+1, n+1)) \n    shortRateTree = short_rate(u, d, n, r)\n    for i in range(n+1):\n        bondPrice[i, n] = F+c\n    i = n-1\n    q1 = 1/2\n    q2 = 1/2\n    while i+1:\n        for j in range(i+1):\n            if i== N:\n                c=0\n            bondPrice[j, i] = (q1*bondPrice[j+1, i+1] + q2*bondPrice[j, i+1])/(1+(shortRateTree[j,i]/100)) +c\n        i-=1\n    q1 = 1/2\n    q2 = 1/2\n    cashAccountPrice = bond_price(u, d, N, r, 1)\n    forwardPrice = bondPrice[:,:N]\n    print(forwardPrice)\n    print(cashAccountPrice)\n    return forwardPrice[0,0]/cashAccountPrice[1]",
      "execution_count": 18,
      "outputs": []
    },
    {
      "metadata": {
        "trusted": true,
        "scrolled": true
      },
      "cell_type": "code",
      "source": "forward_price(1.25, 0.9, 6, 6, 100, 4, 10)",
      "execution_count": 19,
      "outputs": [
        {
          "output_type": "stream",
          "text": "[[79.83 79.99 81.53 85.08]\n [0.00 89.24 90.45 93.27]\n [0.00 0.00 97.67 99.85]\n [0.00 0.00 0.00 104.99]\n [0.00 0.00 0.00 0.00]\n [0.00 0.00 0.00 0.00]\n [0.00 0.00 0.00 0.00]]\n(array([[0.77, 0.79, 0.83, 0.90, 1.00],\n       [0.00, 0.84, 0.87, 0.92, 1.00],\n       [0.00, 0.00, 0.91, 0.94, 1.00],\n       [0.00, 0.00, 0.00, 0.96, 1.00],\n       [0.00, 0.00, 0.00, 0.00, 1.00]]), 0.7721774032871601)\n",
          "name": "stdout"
        },
        {
          "output_type": "execute_result",
          "execution_count": 19,
          "data": {
            "text/plain": "103.37904544566828"
          },
          "metadata": {}
        }
      ]
    },
    {
      "metadata": {
        "trusted": true
      },
      "cell_type": "code",
      "source": "bond_price(1.25, 0.9, 6, 6, 100, 10) #This is correct - just an example",
      "execution_count": 20,
      "outputs": [
        {
          "output_type": "execute_result",
          "execution_count": 20,
          "data": {
            "text/plain": "(array([[124.14, 115.83, 108.98, 104.03, 101.66, 102.98, 110.00],\n        [0.00, 126.14, 118.55, 112.49, 108.44, 107.19, 110.00],\n        [0.00, 0.00, 126.27, 119.27, 113.83, 110.46, 110.00],\n        [0.00, 0.00, 0.00, 124.57, 118.00, 112.96, 110.00],\n        [0.00, 0.00, 0.00, 0.00, 121.16, 114.84, 110.00],\n        [0.00, 0.00, 0.00, 0.00, 0.00, 116.24, 110.00],\n        [0.00, 0.00, 0.00, 0.00, 0.00, 0.00, 110.00]]), 124.13712572733934)"
          },
          "metadata": {}
        }
      ]
    },
    {
      "metadata": {},
      "cell_type": "markdown",
      "source": "### Pricing futures on bonds\n\nFor futures $ F_0 = E_0^Q[(S_N)] $ where $F_0$ is the price of the futures contract and the underlying bond has a maturity of n hence $ S_N$ is the price of the bond at N time period, N is the maturity of the futures contract"
    },
    {
      "metadata": {
        "trusted": true,
        "scrolled": true
      },
      "cell_type": "code",
      "source": "def future_price(u, d, n, r, F, N, c=0):\n    '''c is the coupon price'''\n    #get the correponding bond price lattice\n    bondPrice = np.zeros((n+1, n+1)) \n    shortRateTree = short_rate(u, d, n, r)\n    for i in range(n+1):\n        bondPrice[i, n] = F+c\n    i = n-1\n    q1 = 1/2\n    q2 = 1/2\n    while i+1:\n        for j in range(i+1):\n            if i== N:\n                c=0\n            bondPrice[j, i] = (q1*bondPrice[j+1, i+1] + q2*bondPrice[j, i+1])/(1+(shortRateTree[j,i]/100)) +c\n            \n        i-=1\n    q1 = 1/2\n    q2 = 1/2\n    futurePrice = np.zeros((N+1, N+1))\n    for i in range(N+1):\n        futurePrice[i,N] = bondPrice[i,N]\n        \n    i = N-1\n    while i+1:\n        for j in range(i+1):\n            futurePrice[j,i] = q1*futurePrice[j+1, i+1] + q2*futurePrice[j, i+1]\n        i-=1\n    print(futurePrice)\n    return futurePrice[0,0]",
      "execution_count": 21,
      "outputs": []
    },
    {
      "metadata": {
        "trusted": true
      },
      "cell_type": "code",
      "source": "future_price(1.25, 0.9, 6, 6, 100, 4, 10)",
      "execution_count": 22,
      "outputs": [
        {
          "output_type": "stream",
          "text": "[[103.22 100.81 98.09 95.05 91.66]\n [0.00 105.64 103.52 101.14 98.44]\n [0.00 0.00 107.75 105.91 103.83]\n [0.00 0.00 0.00 109.58 108.00]\n [0.00 0.00 0.00 0.00 111.16]]\n",
          "name": "stdout"
        },
        {
          "output_type": "execute_result",
          "execution_count": 22,
          "data": {
            "text/plain": "103.22201887112544"
          },
          "metadata": {}
        }
      ]
    },
    {
      "metadata": {
        "trusted": true
      },
      "cell_type": "markdown",
      "source": "## Quiz questions"
    },
    {
      "metadata": {
        "trusted": true
      },
      "cell_type": "code",
      "source": "# 1.\nbond_price(1.1, 0.9, 10, 5, 100)",
      "execution_count": 23,
      "outputs": [
        {
          "output_type": "execute_result",
          "execution_count": 23,
          "data": {
            "text/plain": "(array([[61.62, 61.97, 62.68, 63.84, 65.56, 67.97, 71.26, 75.68, 81.58,\n         89.45, 100.00],\n        [0.00, 67.44, 68.07, 69.10, 70.62, 72.74, 75.62, 79.46, 84.53,\n         91.20, 100.00],\n        [0.00, 0.00, 72.88, 73.78, 75.10, 76.95, 79.45, 82.74, 87.06,\n         92.69, 100.00],\n        [0.00, 0.00, 0.00, 77.89, 79.03, 80.62, 82.76, 85.57, 89.22,\n         93.93, 100.00],\n        [0.00, 0.00, 0.00, 0.00, 82.42, 83.78, 85.59, 87.97, 91.05, 94.98,\n         100.00],\n        [0.00, 0.00, 0.00, 0.00, 0.00, 86.47, 88.01, 90.01, 92.58, 95.86,\n         100.00],\n        [0.00, 0.00, 0.00, 0.00, 0.00, 0.00, 90.05, 91.72, 93.87, 96.58,\n         100.00],\n        [0.00, 0.00, 0.00, 0.00, 0.00, 0.00, 0.00, 93.16, 94.94, 97.19,\n         100.00],\n        [0.00, 0.00, 0.00, 0.00, 0.00, 0.00, 0.00, 0.00, 95.83, 97.69,\n         100.00],\n        [0.00, 0.00, 0.00, 0.00, 0.00, 0.00, 0.00, 0.00, 0.00, 98.10,\n         100.00],\n        [0.00, 0.00, 0.00, 0.00, 0.00, 0.00, 0.00, 0.00, 0.00, 0.00,\n         100.00]]), 61.621958117541546)"
          },
          "metadata": {}
        }
      ]
    },
    {
      "metadata": {
        "trusted": true
      },
      "cell_type": "code",
      "source": "#2.\nforward_price(1.1, 0.9, 10, 5, 100, 4)",
      "execution_count": 24,
      "outputs": [
        {
          "output_type": "stream",
          "text": "[[61.62 61.97 62.68 63.84]\n [0.00 67.44 68.07 69.10]\n [0.00 0.00 72.88 73.78]\n [0.00 0.00 0.00 77.89]\n [0.00 0.00 0.00 0.00]\n [0.00 0.00 0.00 0.00]\n [0.00 0.00 0.00 0.00]\n [0.00 0.00 0.00 0.00]\n [0.00 0.00 0.00 0.00]\n [0.00 0.00 0.00 0.00]\n [0.00 0.00 0.00 0.00]]\n(array([[0.82, 0.85, 0.89, 0.94, 1.00],\n       [0.00, 0.88, 0.91, 0.95, 1.00],\n       [0.00, 0.00, 0.92, 0.96, 1.00],\n       [0.00, 0.00, 0.00, 0.96, 1.00],\n       [0.00, 0.00, 0.00, 0.00, 1.00]]), 0.8228895735604675)\n",
          "name": "stdout"
        },
        {
          "output_type": "execute_result",
          "execution_count": 24,
          "data": {
            "text/plain": "74.88484493844841"
          },
          "metadata": {}
        }
      ]
    },
    {
      "metadata": {
        "trusted": true
      },
      "cell_type": "code",
      "source": "#3.\nfuture_price(1.1, 0.9, 10, 5, 100, 4)",
      "execution_count": 25,
      "outputs": [
        {
          "output_type": "stream",
          "text": "[[74.82 72.72 70.47 68.09 65.56]\n [0.00 76.93 74.96 72.86 70.62]\n [0.00 0.00 78.90 77.07 75.10]\n [0.00 0.00 0.00 80.73 79.03]\n [0.00 0.00 0.00 0.00 82.42]]\n",
          "name": "stdout"
        },
        {
          "output_type": "execute_result",
          "execution_count": 25,
          "data": {
            "text/plain": "74.82458063139569"
          },
          "metadata": {}
        }
      ]
    },
    {
      "metadata": {
        "trusted": true
      },
      "cell_type": "code",
      "source": "#4.\nEU_call_option(1.1, 0.9, 10, 5, 100, 80, 6)",
      "execution_count": 29,
      "outputs": [
        {
          "output_type": "stream",
          "text": "2.3572151638290477\n",
          "name": "stdout"
        },
        {
          "output_type": "execute_result",
          "execution_count": 29,
          "data": {
            "text/plain": "array([[2.36, 1.56, 0.84, 0.29, 0.00, 0.00, 0.00],\n       [0.00, 3.39, 2.45, 1.49, 0.62, 0.00, 0.00],\n       [0.00, 0.00, 4.65, 3.64, 2.53, 1.31, 0.00],\n       [0.00, 0.00, 0.00, 6.03, 5.08, 4.00, 2.76],\n       [0.00, 0.00, 0.00, 0.00, 7.42, 6.56, 5.59],\n       [0.00, 0.00, 0.00, 0.00, 0.00, 8.77, 8.01],\n       [0.00, 0.00, 0.00, 0.00, 0.00, 0.00, 10.05]])"
          },
          "metadata": {}
        }
      ]
    },
    {
      "metadata": {
        "trusted": true
      },
      "cell_type": "code",
      "source": "",
      "execution_count": null,
      "outputs": []
    }
  ],
  "metadata": {
    "kernelspec": {
      "name": "python3",
      "display_name": "Python 3",
      "language": "python"
    },
    "language_info": {
      "mimetype": "text/x-python",
      "nbconvert_exporter": "python",
      "name": "python",
      "pygments_lexer": "ipython3",
      "version": "3.5.4",
      "file_extension": ".py",
      "codemirror_mode": {
        "version": 3,
        "name": "ipython"
      }
    }
  },
  "nbformat": 4,
  "nbformat_minor": 2
}