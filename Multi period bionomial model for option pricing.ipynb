{
  "cells": [
    {
      "metadata": {
        "trusted": true
      },
      "cell_type": "code",
      "source": "import numpy as np\nimport matplotlib.pyplot as plt\n",
      "execution_count": 1,
      "outputs": [
        {
          "output_type": "stream",
          "text": "/home/nbuser/anaconda2_501/lib/python2.7/site-packages/matplotlib/font_manager.py:281: UserWarning: Matplotlib is building the font cache using fc-list. This may take a moment.\n  'Matplotlib is building the font cache using fc-list. '\n",
          "name": "stderr"
        }
      ]
    },
    {
      "metadata": {
        "trusted": true
      },
      "cell_type": "code",
      "source": "def bionomial_model(u, d, R, S, n):\n    '''S is the stock price at t = 0'''\n    '''u and d are the multiplier with which the stock price \"S\" moves up and down respectively'''\n    '''R is risk free interest rate'''\n    '''n is the number of time periods until maturity'''\n    \n    #Calculate stock trr, ie. stock prices at every time interval\n    stockTree = np.zeros((n+1, n+1))  \n    stockTree[0,0] = S\n    for i in range(1,n+1):\n        stockTree[0,i] = stockTree[0, i-1]*u\n        for j in range(1,n+1):\n            stockTree[j,i] = stockTree[j-1, i-1]*d\n    return stockTree\n    ",
      "execution_count": 49,
      "outputs": []
    },
    {
      "metadata": {
        "trusted": true
      },
      "cell_type": "code",
      "source": "s = bionomial_model(1.06, 1/1.06, 1.02, 100, 3)\nprint(s)",
      "execution_count": 50,
      "outputs": [
        {
          "output_type": "stream",
          "text": "[[100.         106.         112.36       119.1016    ]\n [  0.          94.33962264 100.         106.        ]\n [  0.           0.          88.999644    94.33962264]\n [  0.           0.           0.          83.9619283 ]]\n",
          "name": "stdout"
        }
      ]
    },
    {
      "metadata": {
        "trusted": true
      },
      "cell_type": "code",
      "source": "def calculate_risk_neutral_prob(u, d, R):\n    q1 = (R - d) / (u - d) \n    return q1\n    ",
      "execution_count": 51,
      "outputs": []
    },
    {
      "metadata": {
        "trusted": true
      },
      "cell_type": "code",
      "source": "def european_call(u, d, R, S, n, K):\n    '''u, d, R, S are described as above'''\n    '''K is the strike price'''\n    stockTree = bionomial_model(u, d, R, S, n)\n    \n    # compute the option tree\n    optionTree = np.zeros((n+1,n+1))\n    for j in range(n+1):\n        optionTree[j, n] = max(0,  (stockTree[j, n]-K))\n        \n    q1 = calculate_risk_neutral_prob(u, d, R) \n    q2 = 1 - q1\n    '''q1 and q2 are called risk neutral probabilities'''\n    for i in range(n-1,-1,-1):\n        for j in range(i+1):\n            optionTree[j, i] = (q1 * optionTree[j, i+1] + q2 * optionTree[j+1, i+1])/R\n   \n                \n    return optionTree",
      "execution_count": 54,
      "outputs": []
    },
    {
      "metadata": {
        "trusted": true
      },
      "cell_type": "code",
      "source": "eo = european_call(1.06, 1/1.06, 1.02, 100, 3, 95)\neo",
      "execution_count": 55,
      "outputs": [
        {
          "output_type": "execute_result",
          "execution_count": 55,
          "data": {
            "text/plain": "array([[11.04359378, 14.76365993, 19.2227451 , 24.1016    ],\n       [ 0.        ,  4.56317851,  7.08484041, 11.        ],\n       [ 0.        ,  0.        ,  0.        ,  0.        ],\n       [ 0.        ,  0.        ,  0.        ,  0.        ]])"
          },
          "metadata": {}
        }
      ]
    },
    {
      "metadata": {
        "trusted": true
      },
      "cell_type": "code",
      "source": "def european_call_price(u, d, R, S, n, K):\n    optionTree = european_call(u, d, R, S, n, K)\n    return optionTree[0][0]",
      "execution_count": 56,
      "outputs": []
    },
    {
      "metadata": {
        "trusted": true
      },
      "cell_type": "code",
      "source": "print european_call_price(1.06, 1/1.06, 1.02, 100, 3, 95)\nprint european_call_price(1.06, 1/1.06, 1.04, 100, 3, 95)\n\n### So the option price increases when we increase R.",
      "execution_count": 57,
      "outputs": [
        {
          "output_type": "stream",
          "text": "11.043593784070934\n15.637788819426035\n",
          "name": "stdout"
        }
      ]
    },
    {
      "metadata": {
        "trusted": true
      },
      "cell_type": "code",
      "source": "def european_put(u, d, R, S, n, K):\n    '''u, d, R, S are described as above'''\n    '''K is the strike price'''\n    stockTree = bionomial_model(u, d, R, S, n)\n    \n    # compute the option tree\n    optionTree = np.zeros((n+1,n+1))\n    for j in range(n+1):\n        optionTree[j, n] = max(0,  (K - stockTree[j, n]))\n        \n    q1 = calculate_risk_neutral_prob(u, d, R)\n    q2 = 1 - q1\n    '''q1 and q2 are called risk neutral probabilities'''\n    for i in range(n-1,-1,-1):\n        for j in range(i+1):\n            optionTree[j, i] = (q1 * optionTree[j, i+1] + q2 * optionTree[j+1, i+1])/R\n   \n                \n    return optionTree",
      "execution_count": 58,
      "outputs": []
    },
    {
      "metadata": {
        "trusted": true
      },
      "cell_type": "code",
      "source": "def american_put (u, d, R, S, n, K):\n    '''parameters remain same as defined above'''\n    optionTree = european_put(u, d, R, S, n, K)\n    stockTree = bionomial_model(u, d, R, S, n)\n    q1 = (R - d) / (u - d) \n    q2 = 1 - q1\n    \n    print(stockTree)\n    print(\"risk neutral probability is \" + str(q1))\n    print(optionTree)\n    \n    #checking if early excercise is a good option \n    flag = 0 \n    list = []\n    for i in range(n-1,-1,-1):\n        for j in range(i+1):\n            optionTree[j, i] = max((q1 * optionTree[j, i+1] + q2 * optionTree[j+1, i+1])/R,   \n                               (stockTree[j, i] - K))           \n            #if the amount obtained by selling the option (Stock price - strike) is more than the oprion price, exercise early\n            if (optionTree[j, i] - (stockTree[j, i] - K)) < 1e-10:\n                flag += 1\n                list.append(i)\n    \n    when = n\n    if(flag):  when = list[-1]\n    print(\"Can be exercised at time period \" + str(when) + \" with value \" + str(optionTree[0][0]))\n    return (optionTree[0,0], when)",
      "execution_count": 59,
      "outputs": []
    },
    {
      "metadata": {
        "trusted": true
      },
      "cell_type": "code",
      "source": "american_put(1.07, 1/1.07 , 1.01, 100, 3, 100)",
      "execution_count": 60,
      "outputs": [
        {
          "output_type": "stream",
          "text": "[[100.         107.         114.49       122.5043    ]\n [  0.          93.45794393 100.         107.        ]\n [  0.           0.          87.34387283  93.45794393]\n [  0.           0.           0.          81.62978769]]\nrisk neutral probability is 0.556935817805\n[[ 3.63339827  1.25893933  0.          0.        ]\n [ 0.          6.7001215   2.8698522   0.        ]\n [ 0.          0.         11.66602816  6.54205607]\n [ 0.          0.          0.         18.37021231]]\nCan be exercised at time period 2 with value 8.0393114659869\n",
          "name": "stdout"
        },
        {
          "output_type": "execute_result",
          "execution_count": 60,
          "data": {
            "text/plain": "(8.0393114659869, 2)"
          },
          "metadata": {}
        }
      ]
    },
    {
      "metadata": {
        "trusted": true
      },
      "cell_type": "code",
      "source": "",
      "execution_count": null,
      "outputs": []
    }
  ],
  "metadata": {
    "kernelspec": {
      "name": "python2",
      "display_name": "Python 2",
      "language": "python"
    },
    "language_info": {
      "mimetype": "text/x-python",
      "nbconvert_exporter": "python",
      "name": "python",
      "pygments_lexer": "ipython2",
      "version": "2.7.15",
      "file_extension": ".py",
      "codemirror_mode": {
        "version": 2,
        "name": "ipython"
      }
    }
  },
  "nbformat": 4,
  "nbformat_minor": 2
}