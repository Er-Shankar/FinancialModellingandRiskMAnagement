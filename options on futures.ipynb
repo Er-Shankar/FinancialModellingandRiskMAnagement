{
  "cells": [
    {
      "metadata": {
        "collapsed": true
      },
      "cell_type": "markdown",
      "source": "Options can be written on futures as well, infact those are the most liquid types of options.\nFor pricing these options, we first compute the future price lattice - \n$F_0 = E_Q[S_n]$ \nie. the expected stock price, where q is risk neutral probability.\nThen the option prices are computed, on top of the future price lattice"
    },
    {
      "metadata": {
        "trusted": true
      },
      "cell_type": "code",
      "source": "import numpy as np\nimport matplotlib.pyplot as plt\nfrom math import exp, sqrt",
      "execution_count": 13,
      "outputs": []
    },
    {
      "metadata": {
        "trusted": true
      },
      "cell_type": "code",
      "source": "def Parameter(T,n,sigma,r,c):\n    \"\"\"Parameter calculation\"\"\"  \n    '''T is the time to maturity and n is the number of periods'''\n    '''sigma is the volatility'''\n    '''r is the the continuously compounded interest rate'''\n    dt = T/n\n    u = exp(sigma * sqrt(dt))\n    d = 1/u\n    \n    q1 = (exp((r-c)*dt)-d)/(u-d)\n    q2 = 1-q1\n    R = exp(r*dt)\n    \n    return (u, d, R, q1, q2)",
      "execution_count": 14,
      "outputs": []
    },
    {
      "metadata": {
        "trusted": true
      },
      "cell_type": "code",
      "source": "def bionomial_model(T,n,sigma,r,c, S):\n    '''S is the stock price at t = 0'''\n    '''u and d are the multiplier with which the stock price \"S\" moves up and down respectively'''\n    '''R is risk free interest rate'''\n    '''n is the number of time periods until maturity'''\n    \n    u, d, R, q1, q2 = Parameter(T,n,sigma,r,c)\n    #Calculate stock trr, ie. stock prices at every time interval\n    stockTree = np.zeros((n+1, n+1))  \n    stockTree[0,0] = S\n    for i in range(1,n+1):\n        stockTree[0,i] = stockTree[0, i-1]*u\n        for j in range(1,n+1):\n            stockTree[j,i] = stockTree[j-1, i-1]*d\n    return stockTree\n    ",
      "execution_count": 15,
      "outputs": []
    },
    {
      "metadata": {
        "trusted": true
      },
      "cell_type": "code",
      "source": "def FuturesOptionEU(T,n,N,S,r,c,sigma,K,cp):\n    \"\"\"European Futures Option Pricing\"\"\"\n    u, d, R, q1, q2 = Parameter(T,N,sigma,r,c)\n    \n    stockTree = bionomial_model(T,N,sigma,r,c, S)\n    futuresTree = np.zeros((N+1, N+1))\n    optionTree = np.zeros((n+1,n+1))           \n            \n    # compute the futures tree\n    for j in range(N+1):\n        futuresTree[j, N] = stockTree[j, N]\n    \n    for i in range(N-1, -1,-1): \n        for j in range(i+1):\n            futuresTree[j,i] = q1 * futuresTree[j, i+1] + q2 * futuresTree[j+1, i+1]\n    \n    \n    # compute the option tree\n    for j in range(n+1):\n        optionTree[j, n] = max(0, cp * (futuresTree[j, n]-K))\n    \n    for i in range(n-1,-1,-1):\n        for j in range(i+1):\n            optionTree[j, i] = (q1 * optionTree[j, i+1] + q2 * optionTree[j+1, i+1])/R                 \n      \n    print(optionTree)\n    return optionTree[0,0]",
      "execution_count": 16,
      "outputs": []
    },
    {
      "metadata": {
        "trusted": true
      },
      "cell_type": "code",
      "source": "FuturesOptionEU(3, 3, 3, 100, 1.02, 1.04, 0.2, 95, 0.4)",
      "execution_count": 19,
      "outputs": [
        {
          "output_type": "stream",
          "text": "[[ 0.25254394  1.40749212  7.38908924 34.88475202]\n [ 0.          0.22697767  1.56974349 10.85611033]\n [ 0.          0.          0.          0.        ]\n [ 0.          0.          0.          0.        ]]\n",
          "name": "stdout"
        },
        {
          "output_type": "execute_result",
          "execution_count": 19,
          "data": {
            "text/plain": "0.25254394480674297"
          },
          "metadata": {}
        }
      ]
    },
    {
      "metadata": {
        "trusted": true
      },
      "cell_type": "code",
      "source": "",
      "execution_count": null,
      "outputs": []
    }
  ],
  "metadata": {
    "kernelspec": {
      "name": "python3",
      "display_name": "Python 3",
      "language": "python"
    },
    "language_info": {
      "mimetype": "text/x-python",
      "nbconvert_exporter": "python",
      "name": "python",
      "pygments_lexer": "ipython3",
      "version": "3.5.4",
      "file_extension": ".py",
      "codemirror_mode": {
        "version": 3,
        "name": "ipython"
      }
    }
  },
  "nbformat": 4,
  "nbformat_minor": 2
}